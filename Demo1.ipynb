{
  "nbformat": 4,
  "nbformat_minor": 0,
  "metadata": {
    "colab": {
      "provenance": [],
      "authorship_tag": "ABX9TyN9jnZav0bqBXHPDdxnmvrb",
      "include_colab_link": true
    },
    "kernelspec": {
      "name": "python3",
      "display_name": "Python 3"
    },
    "language_info": {
      "name": "python"
    }
  },
  "cells": [
    {
      "cell_type": "markdown",
      "metadata": {
        "id": "view-in-github",
        "colab_type": "text"
      },
      "source": [
        "<a href=\"https://colab.research.google.com/github/PerlasKurtNiko/58003-OOP/blob/main/Demo1.ipynb\" target=\"_parent\"><img src=\"https://colab.research.google.com/assets/colab-badge.svg\" alt=\"Open In Colab\"/></a>"
      ]
    },
    {
      "cell_type": "code",
      "execution_count": 1,
      "metadata": {
        "colab": {
          "base_uri": "https://localhost:8080/"
        },
        "id": "bWi_7ebKUyfn",
        "outputId": "5d3b65de-476e-42a7-ac67-bd64cbd4045d"
      },
      "outputs": [
        {
          "output_type": "stream",
          "name": "stdout",
          "text": [
            "5 is greater than 2\n"
          ]
        }
      ],
      "source": [
        "#Python Indentation\n",
        "\n",
        "if 5>2:\n",
        "  print (\"5 is greater than 2\")"
      ]
    },
    {
      "cell_type": "code",
      "source": [
        "#Declaration of variable\n",
        "\n",
        "x,y = 5, 2\n",
        "\n",
        "if x>y:\n",
        "  print (\"5 is greater than 2\")\n",
        "elif x<y:\n",
        "  print(\"2 is greater than 5\")\n",
        "else:\n",
        "  print (\"5 and 2 are equal\")"
      ],
      "metadata": {
        "colab": {
          "base_uri": "https://localhost:8080/"
        },
        "id": "zyoMHMCgVC8h",
        "outputId": "4438ea87-f4e7-4b80-87a2-df8caeb076d3"
      },
      "execution_count": 2,
      "outputs": [
        {
          "output_type": "stream",
          "name": "stdout",
          "text": [
            "5 is greater than 2\n"
          ]
        }
      ]
    },
    {
      "cell_type": "code",
      "source": [
        "#Python Variable\n"
      ],
      "metadata": {
        "id": "kKhOX7tJVhg_"
      },
      "execution_count": null,
      "outputs": []
    }
  ]
}