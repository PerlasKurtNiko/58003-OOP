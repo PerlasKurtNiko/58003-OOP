{
  "nbformat": 4,
  "nbformat_minor": 0,
  "metadata": {
    "colab": {
      "provenance": [],
      "authorship_tag": "ABX9TyOZE8CKItHy/l15iuvyxuD3",
      "include_colab_link": true
    },
    "kernelspec": {
      "name": "python3",
      "display_name": "Python 3"
    },
    "language_info": {
      "name": "python"
    }
  },
  "cells": [
    {
      "cell_type": "markdown",
      "metadata": {
        "id": "view-in-github",
        "colab_type": "text"
      },
      "source": [
        "<a href=\"https://colab.research.google.com/github/PerlasKurtNiko/58003-OOP/blob/main/LaboratoryActivity1.ipynb\" target=\"_parent\"><img src=\"https://colab.research.google.com/assets/colab-badge.svg\" alt=\"Open In Colab\"/></a>"
      ]
    },
    {
      "cell_type": "code",
      "execution_count": 8,
      "metadata": {
        "colab": {
          "base_uri": "https://localhost:8080/"
        },
        "id": "-RxMco10yy4E",
        "outputId": "f86d7483-793f-4622-d41a-6f2693ed83b2"
      },
      "outputs": [
        {
          "output_type": "stream",
          "name": "stdout",
          "text": [
            "sum =  210\n",
            "Average = 10.5\n"
          ]
        }
      ],
      "source": [
        "n = 20\n",
        "total_number = 20\n",
        "sum = 0\n",
        "average  = 0\n",
        "\n",
        "while n>= 0:\n",
        "  sum += n\n",
        "  n -= 1\n",
        "\n",
        "\n",
        "print (\"sum = \", sum)\n",
        "\n",
        "average = sum/total_number\n",
        "print (\"Average =\", average)\n",
        "\n",
        "\n"
      ]
    }
  ]
}