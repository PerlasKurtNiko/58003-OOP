{
  "nbformat": 4,
  "nbformat_minor": 0,
  "metadata": {
    "colab": {
      "provenance": [],
      "authorship_tag": "ABX9TyPT0m/2O2gBevKR3h6d8Uwl",
      "include_colab_link": true
    },
    "kernelspec": {
      "name": "python3",
      "display_name": "Python 3"
    },
    "language_info": {
      "name": "python"
    }
  },
  "cells": [
    {
      "cell_type": "markdown",
      "metadata": {
        "id": "view-in-github",
        "colab_type": "text"
      },
      "source": [
        "<a href=\"https://colab.research.google.com/github/PerlasKurtNiko/58003-OOP/blob/main/Functions.ipynb\" target=\"_parent\"><img src=\"https://colab.research.google.com/assets/colab-badge.svg\" alt=\"Open In Colab\"/></a>"
      ]
    },
    {
      "cell_type": "code",
      "execution_count": 12,
      "metadata": {
        "colab": {
          "base_uri": "https://localhost:8080/"
        },
        "id": "x2RB5gtWCpjd",
        "outputId": "1c320f10-b3a4-41fb-eae8-5f8451bfffc6"
      },
      "outputs": [
        {
          "output_type": "stream",
          "name": "stdout",
          "text": [
            "Ana\n",
            "20\n",
            "Ma'am Sayo\n",
            "40\n"
          ]
        }
      ],
      "source": [
        "class Persons:\n",
        "  def __init__(self,name,age):\n",
        "    self.name = name\n",
        "    self.age = age\n",
        "\n",
        "student = Persons(\"Ana\", 20)\n",
        "teacher = Persons(\"Ma'am Sayo\", 40)\n",
        "print(student.name)\n",
        "print(student.age)\n",
        "\n",
        "print (teacher.name)\n",
        "print (teacher.age)"
      ]
    },
    {
      "cell_type": "code",
      "source": [
        "#Functions that will sovle for the area of a rectangle\n",
        "class Shapes:\n",
        "\n",
        "  def __init__(self,length,width):\n",
        "    self.length = length\n",
        "    self.width = width\n",
        "  def area (self):\n",
        "    return self.length * self.width\n",
        "\n",
        "\n",
        "#x = self.length * self.width\n",
        "rectangle = Shapes(10,5)\n",
        "rectangle.area()\n",
        "\n",
        "\n",
        "#return self.length * self.width\n",
        "\n"
      ],
      "metadata": {
        "colab": {
          "base_uri": "https://localhost:8080/"
        },
        "id": "cdRmtp7rEIK-",
        "outputId": "54303179-daaa-4f2f-b9fc-9344dde4b96e"
      },
      "execution_count": 25,
      "outputs": [
        {
          "output_type": "execute_result",
          "data": {
            "text/plain": [
              "50"
            ]
          },
          "metadata": {},
          "execution_count": 25
        }
      ]
    },
    {
      "cell_type": "code",
      "source": [
        "pi = 3.14159\n",
        "varList = [1,2,\"A\",\"B\",\"Hello\",pi]\n",
        "print (varList[0])\n",
        "varList.append(5)\n",
        "print (varList)"
      ],
      "metadata": {
        "colab": {
          "base_uri": "https://localhost:8080/"
        },
        "id": "pCXGpeqHIwvL",
        "outputId": "7ad51bd5-d6ab-435b-c854-90621501ae43"
      },
      "execution_count": 29,
      "outputs": [
        {
          "output_type": "stream",
          "name": "stdout",
          "text": [
            "1\n",
            "[1, 2, 'A', 'B', 'Hello', 3.14159, 5]\n"
          ]
        }
      ]
    },
    {
      "cell_type": "code",
      "source": [
        "#Remove\n",
        "varList.remove(pi)\n",
        "print (varList)\n"
      ],
      "metadata": {
        "colab": {
          "base_uri": "https://localhost:8080/"
        },
        "id": "Sr1yLzn0J1w6",
        "outputId": "3348218d-36bc-427e-f0e2-0392c04f8417"
      },
      "execution_count": 31,
      "outputs": [
        {
          "output_type": "stream",
          "name": "stdout",
          "text": [
            "[1, 2, 'A', 'B', 'Hello', 5]\n"
          ]
        }
      ]
    },
    {
      "cell_type": "code",
      "source": [
        "#Dictionaries\n",
        "#Should/Cannot Duplcicate (look at the 2nd and last varDict index)\n",
        "var = \"Hello World!\"\n",
        "varDict = {'first' : 123, 2 : 'abc', '3' : var, 4 : ['lista', 'listb'], 2 : 'def'}\n",
        "\n",
        "print (varDict['first'])\n",
        "print (varDict ['3'])\n",
        "print (varDict[4])\n",
        "print (varDict)"
      ],
      "metadata": {
        "colab": {
          "base_uri": "https://localhost:8080/"
        },
        "id": "dyP8iPZpKHC9",
        "outputId": "3c1b509a-4587-4330-a519-54440de6a8d6"
      },
      "execution_count": 50,
      "outputs": [
        {
          "output_type": "stream",
          "name": "stdout",
          "text": [
            "123\n",
            "Hello World!\n",
            "['lista', 'listb']\n",
            "{'first': 123, 2: 'def', '3': 'Hello World!', 4: ['lista', 'listb']}\n"
          ]
        }
      ]
    },
    {
      "cell_type": "code",
      "source": [
        "def tri_recursion(k):\n",
        "  if(k > 0):\n",
        "    result = k + tri_recursion(k - 1)\n",
        "    print(result)\n",
        "  else:\n",
        "    result = 0\n",
        "  return result\n",
        "\n",
        "print(\"\\n\\nRecursion Example Results\")\n",
        "tri_recursion(6)"
      ],
      "metadata": {
        "colab": {
          "base_uri": "https://localhost:8080/"
        },
        "id": "0N8JoPFiLE71",
        "outputId": "7571c009-5167-4a89-db24-a02241a90070"
      },
      "execution_count": 35,
      "outputs": [
        {
          "output_type": "stream",
          "name": "stdout",
          "text": [
            "\n",
            "\n",
            "Recursion Example Results\n",
            "1\n",
            "3\n",
            "6\n",
            "10\n",
            "15\n",
            "21\n"
          ]
        },
        {
          "output_type": "execute_result",
          "data": {
            "text/plain": [
              "21"
            ]
          },
          "metadata": {},
          "execution_count": 35
        }
      ]
    },
    {
      "cell_type": "code",
      "source": [
        "varList = [1,2,3,4,5,6,7,8,9,10]\n",
        "print (varList[5:])\n",
        "print (varList[:6])\n",
        "print (varList[2:8])\n",
        "print (varList[1:10:2])\n",
        "print (varList[:-2])\n",
        "print (varList[-2:])\n",
        "print (varList[1:-1])\n",
        "print (varList[0:2])\n",
        "print (varList[:-8])\n",
        "print (varList[:2])"
      ],
      "metadata": {
        "colab": {
          "base_uri": "https://localhost:8080/",
          "height": 130
        },
        "id": "wKN55KqKNNeU",
        "outputId": "b4c33809-50a8-415f-bba9-197ba8db4e4c"
      },
      "execution_count": 72,
      "outputs": [
        {
          "output_type": "error",
          "ename": "SyntaxError",
          "evalue": "ignored",
          "traceback": [
            "\u001b[0;36m  File \u001b[0;32m\"<ipython-input-72-bb1292c53e48>\"\u001b[0;36m, line \u001b[0;32m12\u001b[0m\n\u001b[0;31m    print (varList[:10++])\u001b[0m\n\u001b[0m                        ^\u001b[0m\n\u001b[0;31mSyntaxError\u001b[0m\u001b[0;31m:\u001b[0m invalid syntax\n"
          ]
        }
      ]
    },
    {
      "cell_type": "code",
      "source": [
        "for x in range (1,10,2):\n",
        "  print (x)\n"
      ],
      "metadata": {
        "colab": {
          "base_uri": "https://localhost:8080/"
        },
        "id": "U4cUBDqDNvkD",
        "outputId": "d6c68eb7-300d-4be7-8ece-c6ef97c13587"
      },
      "execution_count": 56,
      "outputs": [
        {
          "output_type": "stream",
          "name": "stdout",
          "text": [
            "1\n",
            "3\n",
            "5\n",
            "7\n",
            "9\n"
          ]
        }
      ]
    },
    {
      "cell_type": "code",
      "source": [
        "#Slicing Method\n"
      ],
      "metadata": {
        "id": "uojPom9SOP_0"
      },
      "execution_count": null,
      "outputs": []
    }
  ]
}