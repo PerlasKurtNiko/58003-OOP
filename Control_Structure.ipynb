{
  "nbformat": 4,
  "nbformat_minor": 0,
  "metadata": {
    "colab": {
      "provenance": [],
      "authorship_tag": "ABX9TyNEM8F47wDmVoypvpnLGlPu",
      "include_colab_link": true
    },
    "kernelspec": {
      "name": "python3",
      "display_name": "Python 3"
    },
    "language_info": {
      "name": "python"
    }
  },
  "cells": [
    {
      "cell_type": "markdown",
      "metadata": {
        "id": "view-in-github",
        "colab_type": "text"
      },
      "source": [
        "<a href=\"https://colab.research.google.com/github/PerlasKurtNiko/58003-OOP/blob/main/Control_Structure.ipynb\" target=\"_parent\"><img src=\"https://colab.research.google.com/assets/colab-badge.svg\" alt=\"Open In Colab\"/></a>"
      ]
    },
    {
      "cell_type": "markdown",
      "source": [
        "If Condition\n",
        "\n"
      ],
      "metadata": {
        "id": "Gea6jWPQ6kyi"
      }
    },
    {
      "cell_type": "markdown",
      "source": [
        "if, elif, and else condition"
      ],
      "metadata": {
        "id": "qDA3KOq-8juq"
      }
    },
    {
      "cell_type": "code",
      "source": [
        "print (\"Input the value of x\")\n",
        "x = int (input())\n",
        "print (\"Input the value of y\")\n",
        "y = int (input())\n",
        "\n",
        "if x > y:\n",
        "  print (\"x is greater than y\")\n",
        "elif x < y:\n",
        "  print(\"x is less than y\")\n",
        "else:\n",
        "  print (\"x is equal to y\")"
      ],
      "metadata": {
        "colab": {
          "base_uri": "https://localhost:8080/"
        },
        "id": "VjEkTHOa6p-p",
        "outputId": "923d76f5-ae35-4d31-9a58-72d530807186"
      },
      "execution_count": 1,
      "outputs": [
        {
          "output_type": "stream",
          "name": "stdout",
          "text": [
            "Input the value of x\n",
            "6\n",
            "Input the value of y\n",
            "2\n",
            "x is greater than y\n"
          ]
        }
      ]
    },
    {
      "cell_type": "markdown",
      "source": [
        "Application 1 - create a python program that will compare if the student is in Elementary, Secondary, and Tertiary level"
      ],
      "metadata": {
        "id": "PGlai_W2-Zb9"
      }
    },
    {
      "cell_type": "code",
      "source": [
        "print (\"Input name\")\n",
        "x = str (input())\n",
        "print (\"Grade level/Year level (if in tertiary level type 0) \")\n",
        "y = int (input())\n",
        "\n",
        "if y == 1 or y == 2 or y == 3 or y == 4 or y == 5 or y == 6:\n",
        "  print (\"The student is in Elementary level\")\n",
        "elif y == 7 or y == 8 or y == 9 or y == 10 or y == 11 or y == 12:\n",
        "  print(\"The student is in Secondary level\")\n",
        "elif y == 0:\n",
        "  print (\"The student is in Tertiary level\")"
      ],
      "metadata": {
        "colab": {
          "base_uri": "https://localhost:8080/"
        },
        "id": "tqAwteg2-iKF",
        "outputId": "0832a3f7-38e0-4d31-f354-851daa14bf4a"
      },
      "execution_count": 29,
      "outputs": [
        {
          "output_type": "stream",
          "name": "stdout",
          "text": [
            "Input name\n",
            "Kurt\n",
            "Grade level/Year level (if in tertiary level type 0) \n",
            "12\n",
            "The student is in Secondary level\n"
          ]
        }
      ]
    },
    {
      "cell_type": "code",
      "source": [
        "print (\"Input name\")\n",
        "x = str (input())\n",
        "print (\"Grade level/Year level (if in tertiary level type 0) \")\n",
        "y = int (input())\n",
        "\n",
        "if y <= 6:\n",
        "  print (\"The student is in Elementary level\")\n",
        "elif y <= 12:\n",
        "  print(\"The student is in Secondary level\")\n",
        "elif y == 0:\n",
        "  print (\"The student is in Tertiary level\")"
      ],
      "metadata": {
        "id": "S9ihbiMyDbYB"
      },
      "execution_count": null,
      "outputs": []
    },
    {
      "cell_type": "markdown",
      "source": [
        "Shorthand if and if...else"
      ],
      "metadata": {
        "id": "YEZKGfT6CHcV"
      }
    },
    {
      "cell_type": "code",
      "source": [
        "a = 2\n",
        "b = 330\n",
        "print(\"A\") if a > b else print(\"B\")"
      ],
      "metadata": {
        "colab": {
          "base_uri": "https://localhost:8080/"
        },
        "id": "z_TVbrl_CDt0",
        "outputId": "4d55ce31-adaa-42d3-fed5-6e7de2a7e344"
      },
      "execution_count": 25,
      "outputs": [
        {
          "output_type": "stream",
          "name": "stdout",
          "text": [
            "B\n"
          ]
        }
      ]
    },
    {
      "cell_type": "code",
      "source": [
        "a = int(input())\n",
        "b = int(input())\n",
        "print (\"a is less than b\") if a<b else print(\"b is less than a\")"
      ],
      "metadata": {
        "colab": {
          "base_uri": "https://localhost:8080/"
        },
        "id": "9NqadJPqCt8W",
        "outputId": "0a5a5bcd-c001-4174-d966-1ba374502f25"
      },
      "execution_count": 31,
      "outputs": [
        {
          "output_type": "stream",
          "name": "stdout",
          "text": [
            "1\n",
            "2\n",
            "a is less than b\n"
          ]
        }
      ]
    },
    {
      "cell_type": "markdown",
      "source": [
        "Nested if"
      ],
      "metadata": {
        "id": "qvvRxni0DrAI"
      }
    },
    {
      "cell_type": "code",
      "source": [
        "x = int (input())\n",
        "\n",
        "if x>10:\n",
        "  print(\"Above ten\")\n",
        "  if x > 20:\n",
        "    print(\"Above 20\")\n",
        "    else:\n",
        "      print(\"But below 20\")\n",
        "  if x > 30:\n",
        "      print (\"Above 30\")\n",
        "    if x > 40:\n",
        "        print (\"Above 40\")\n",
        "      if x < 50:\n",
        "          print (\"But below than 50\")\n"
      ],
      "metadata": {
        "colab": {
          "base_uri": "https://localhost:8080/"
        },
        "id": "o2FJk3L5Dr25",
        "outputId": "78bbad03-4013-4c7f-8290-7bc56e665b36"
      },
      "execution_count": 37,
      "outputs": [
        {
          "output_type": "stream",
          "name": "stdout",
          "text": [
            "Above ten\n",
            "Above 20\n",
            "Above 30\n",
            "Above 40\n",
            "But below than 50\n"
          ]
        }
      ]
    },
    {
      "cell_type": "code",
      "source": [
        "x = int (input())\n",
        "\n",
        "if x>10:\n",
        "  print (\"Above 10\")\n",
        "  if x > 20:\n",
        "    print (\"Above 20\")\n",
        "    if x > 30:\n",
        "      print (\"Above 30\")\n",
        "      if x > 40:\n",
        "        print(\"Above 40\")\n",
        "        if x > 50:\n",
        "          print (\"Above 50\")\n",
        "        else:\n",
        "          print (\"Below 50\")\n",
        "      else:\n",
        "        print (\"Below 40\")\n",
        "    else:\n",
        "      print (\"Below 30\")\n",
        "  else:\n",
        "    print (\"Below 20\")\n",
        "else:\n",
        "  print (\"Below 10\")\n",
        "\n"
      ],
      "metadata": {
        "colab": {
          "base_uri": "https://localhost:8080/"
        },
        "id": "jpXJtwDXGGL9",
        "outputId": "3cef79f3-7c2b-434f-f2e3-1fdc96fa317b"
      },
      "execution_count": 41,
      "outputs": [
        {
          "output_type": "stream",
          "name": "stdout",
          "text": [
            "6\n",
            "Below 10\n"
          ]
        }
      ]
    },
    {
      "cell_type": "code",
      "source": [
        "#EXAMPLE 1\n",
        "\n",
        "x = int (input())\n",
        "\n",
        "if x <= 17:\n",
        "  print (\"Person is !!!NOT!!! eligible to vote\")\n",
        "else:\n",
        "  print (\"Person is eligible to vote\")\n"
      ],
      "metadata": {
        "colab": {
          "base_uri": "https://localhost:8080/"
        },
        "id": "Co-sm0wGH0D7",
        "outputId": "d415702f-21d8-47ee-bc22-c3b20002ea1d"
      },
      "execution_count": 42,
      "outputs": [
        {
          "output_type": "stream",
          "name": "stdout",
          "text": [
            "17\n",
            "Person is !!!NOT!!! eligible to vote\n"
          ]
        }
      ]
    }
  ]
}