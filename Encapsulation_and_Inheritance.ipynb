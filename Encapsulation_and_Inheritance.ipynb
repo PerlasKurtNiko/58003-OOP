{
  "nbformat": 4,
  "nbformat_minor": 0,
  "metadata": {
    "colab": {
      "provenance": [],
      "authorship_tag": "ABX9TyObquHIhFppOThmcS+7Gk8e",
      "include_colab_link": true
    },
    "kernelspec": {
      "name": "python3",
      "display_name": "Python 3"
    },
    "language_info": {
      "name": "python"
    }
  },
  "cells": [
    {
      "cell_type": "markdown",
      "metadata": {
        "id": "view-in-github",
        "colab_type": "text"
      },
      "source": [
        "<a href=\"https://colab.research.google.com/github/PerlasKurtNiko/58003-OOP/blob/main/Encapsulation_and_Inheritance.ipynb\" target=\"_parent\"><img src=\"https://colab.research.google.com/assets/colab-badge.svg\" alt=\"Open In Colab\"/></a>"
      ]
    },
    {
      "cell_type": "code",
      "execution_count": 1,
      "metadata": {
        "colab": {
          "base_uri": "https://localhost:8080/"
        },
        "id": "jXEXUth7Vg7I",
        "outputId": "ce62383f-0460-4093-c52f-1cee059773fc"
      },
      "outputs": [
        {
          "output_type": "execute_result",
          "data": {
            "text/plain": [
              "7"
            ]
          },
          "metadata": {},
          "execution_count": 1
        }
      ],
      "source": [
        "class foo: \n",
        "  def __init__(self, a, b):\n",
        "    self.a = a\n",
        "    self.b = b\n",
        "  def add (self):\n",
        "    return self.a + self.b\n",
        "foo_object = foo(3,4)\n",
        "foo_object.add()"
      ]
    },
    {
      "cell_type": "code",
      "source": [
        "class Counter:\n",
        "  def __init__(self,current):\n",
        "    self.__current = 0\n",
        "  def increment(self):\n",
        "    self.__current += 1\n",
        "  def value(self):\n",
        "    return self.__current\n",
        "  def reset (self):\n",
        "    self.__current = 0\n",
        "  def display_counter(self):\n",
        "    print (\"The Increment is\", self.increment())\n",
        "    print (\"The current value is\", self.value())\n",
        "    print (\"The reset valyue is\", self.reset())\n",
        "\n",
        "counter = Counter(0)\n",
        "counter.display_counter()\n",
        "\n"
      ],
      "metadata": {
        "colab": {
          "base_uri": "https://localhost:8080/"
        },
        "id": "rxehH1LZavO2",
        "outputId": "7abcd11b-f659-4175-f068-ee556e38de80"
      },
      "execution_count": 26,
      "outputs": [
        {
          "output_type": "stream",
          "name": "stdout",
          "text": [
            "The Increment is None\n",
            "The current value is 1\n",
            "The reset valyue is None\n"
          ]
        }
      ]
    },
    {
      "cell_type": "code",
      "source": [
        "class Person:\n",
        "  def __init__(self, name, birthdate):\n",
        "    self.name = name\n",
        "    self.birthdate = birthdate\n",
        "  def display_identity(self):\n",
        "    print (\"My name is\", self.name)\n",
        "    print (\"My birtdate is\", self.birthdate)\n",
        "\n",
        "class Teacher (Person):\n",
        "  pass\n",
        "  #print (\"My name is\", self.name, \"and my birthdate is\", self.birthdate)\n",
        "\n",
        "class Student (Person):\n",
        "  pass\n",
        "\n",
        "teacher = Person (\"Jun-Jun Abdulah Chang\", \"Dec. 25, 200 BCE\")\n",
        "student = Person (\"Mia Riley Reid\", \"Feb. 29, 1969\")\n",
        "\n",
        "teacher.display_identity()\n",
        "student.display_identity()"
      ],
      "metadata": {
        "colab": {
          "base_uri": "https://localhost:8080/"
        },
        "id": "UM30w6hEfYIz",
        "outputId": "3377fb7c-83f5-48d2-cd7d-8476b588fa8c"
      },
      "execution_count": 31,
      "outputs": [
        {
          "output_type": "stream",
          "name": "stdout",
          "text": [
            "My name is Jun-Jun Abdulah Chang\n",
            "My birtdate is Dec. 25, 200 BCE\n",
            "My name is Mia Riley Reid\n",
            "My birtdate is Feb. 29, 1969\n"
          ]
        }
      ]
    },
    {
      "cell_type": "code",
      "source": [
        "# FIVE Examples of Polygon\n",
        "# Apply Encapsulation by mangling (\"__\")\n",
        "# Apply Class Inheritance\n",
        "class Shapes:\n",
        "  def __init__(self, sides):\n",
        "    self.__sides = sides\n",
        "  def display_sides(self):\n",
        "    print (\"The total number of sides are\", self.__sides,)\n",
        "\n",
        "class Rhombus (Shapes):\n",
        "  pass\n",
        "class Rectangle (Shapes):\n",
        "  pass\n",
        "class Square(Shapes):\n",
        "  pass\n",
        "class Trapezoid (Shapes):\n",
        "  pass\n",
        "class Parallelogram (Shapes):\n",
        "  pass\n",
        "\n",
        "Rhombus = Shapes(4)\n",
        "Rectangle = Shapes(4)\n",
        "Square = Shapes(4)\n",
        "Trapezoid = Shapes(4)\n",
        "Parallelogram = Shapes (4)\n",
        "\n",
        "Rhombus.display_sides()\n",
        "Rectangle.display_sides()\n",
        "Square.display_sides()\n",
        "Trapezoid.display_sides()\n",
        "Parallelogram.display_sides()\n",
        "\n"
      ],
      "metadata": {
        "colab": {
          "base_uri": "https://localhost:8080/"
        },
        "id": "cMm56vS1goaT",
        "outputId": "3c7ec12b-b20e-4a5b-cd4a-f156d26bf22c"
      },
      "execution_count": 37,
      "outputs": [
        {
          "output_type": "stream",
          "name": "stdout",
          "text": [
            "The total number of sides are 4\n",
            "The total number of sides are 4\n",
            "The total number of sides are 4\n",
            "The total number of sides are 4\n",
            "The total number of sides are 4\n"
          ]
        }
      ]
    }
  ]
}