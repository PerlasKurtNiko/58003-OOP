{
  "nbformat": 4,
  "nbformat_minor": 0,
  "metadata": {
    "colab": {
      "provenance": [],
      "authorship_tag": "ABX9TyNkJTu/bCpeJjt7r3xYj4PA",
      "include_colab_link": true
    },
    "kernelspec": {
      "name": "python3",
      "display_name": "Python 3"
    },
    "language_info": {
      "name": "python"
    }
  },
  "cells": [
    {
      "cell_type": "markdown",
      "metadata": {
        "id": "view-in-github",
        "colab_type": "text"
      },
      "source": [
        "<a href=\"https://colab.research.google.com/github/PerlasKurtNiko/58003-OOP/blob/main/Looping.ipynb\" target=\"_parent\"><img src=\"https://colab.research.google.com/assets/colab-badge.svg\" alt=\"Open In Colab\"/></a>"
      ]
    },
    {
      "cell_type": "markdown",
      "source": [
        "For Looping"
      ],
      "metadata": {
        "id": "uXvBbU2yeuUf"
      }
    },
    {
      "cell_type": "code",
      "source": [
        "enterprise = [\"Kirk\", \"Spock\", \"Mc Coy\"]\n",
        "\n",
        "for x in enterprise:\n",
        "\n",
        "  print (x)"
      ],
      "metadata": {
        "colab": {
          "base_uri": "https://localhost:8080/"
        },
        "id": "iosU8vvxe80V",
        "outputId": "6692a100-49ed-4569-a87b-fb1b28d0fa3b"
      },
      "execution_count": 1,
      "outputs": [
        {
          "output_type": "stream",
          "name": "stdout",
          "text": [
            "Kirk\n",
            "Spock\n",
            "Mc Coy\n"
          ]
        }
      ]
    },
    {
      "cell_type": "code",
      "source": [
        "#For Looping through a string \n",
        "\n",
        "for sixnine in \"Lord Vader\":\n",
        "  print (sixnine)"
      ],
      "metadata": {
        "colab": {
          "base_uri": "https://localhost:8080/"
        },
        "id": "lVShkiHDfk8M",
        "outputId": "d12ea6df-b2da-4814-c409-1575885e6a86"
      },
      "execution_count": 3,
      "outputs": [
        {
          "output_type": "stream",
          "name": "stdout",
          "text": [
            "L\n",
            "o\n",
            "r\n",
            "d\n",
            " \n",
            "V\n",
            "a\n",
            "d\n",
            "e\n",
            "r\n"
          ]
        }
      ]
    },
    {
      "cell_type": "code",
      "source": [
        "#For Looping with break\n",
        "\n",
        "hatdog = [\"Cheesedog\", \"Footlong\", \"Hotdog\", \"JunJun\"]\n",
        "\n",
        "for r in hatdog:\n",
        "  print (r)\n",
        "  if r == \"Hotdog\":\n",
        "    break"
      ],
      "metadata": {
        "colab": {
          "base_uri": "https://localhost:8080/"
        },
        "id": "F0B1To7tgHRz",
        "outputId": "7033e9df-798d-4754-8887-267f3139f143"
      },
      "execution_count": 10,
      "outputs": [
        {
          "output_type": "stream",
          "name": "stdout",
          "text": [
            "Cheesedog\n",
            "Footlong\n",
            "Hotdog\n"
          ]
        }
      ]
    },
    {
      "cell_type": "code",
      "source": [
        "#For Looping with range\n",
        "\n",
        "for y in range (10):\n",
        "  print (y)\n",
        "print (\" \")\n",
        "for d in range (5, 20, 2):\n",
        "  print (d)"
      ],
      "metadata": {
        "colab": {
          "base_uri": "https://localhost:8080/"
        },
        "id": "2vW-SRrPhdIp",
        "outputId": "daec673a-ac61-4e3e-fa46-a4b1775c5758"
      },
      "execution_count": 18,
      "outputs": [
        {
          "output_type": "stream",
          "name": "stdout",
          "text": [
            "0\n",
            "1\n",
            "2\n",
            "3\n",
            "4\n",
            "5\n",
            "6\n",
            "7\n",
            "8\n",
            "9\n",
            " \n",
            "5\n",
            "7\n",
            "9\n",
            "11\n",
            "13\n",
            "15\n",
            "17\n",
            "19\n"
          ]
        }
      ]
    },
    {
      "cell_type": "code",
      "source": [
        "#For Looping with continue\n",
        "\n",
        "week = [\"Sunday\", \"Monday\", \"Tuesday\", \"Wednesday\", \"Thursday\", \"Friday\", \"Saturday\"]\n",
        "\n",
        "for linggo in week:\n",
        "  if linggo == \"Wednesday\": continue\n",
        "  print (linggo)"
      ],
      "metadata": {
        "colab": {
          "base_uri": "https://localhost:8080/"
        },
        "id": "YpC4ue_sih0f",
        "outputId": "c937e7f9-084d-4761-e9c6-760ce9e0e277"
      },
      "execution_count": 32,
      "outputs": [
        {
          "output_type": "stream",
          "name": "stdout",
          "text": [
            "Sunday\n",
            "Monday\n",
            "Tuesday\n",
            "Thursday\n",
            "Friday\n",
            "Saturday\n"
          ]
        }
      ]
    },
    {
      "cell_type": "code",
      "source": [
        "#Loop within a Loop\n",
        "\n",
        "p = [\"Love\", \"Kill\", \"I\"]\n",
        "e = [\"Me\", \"Myself\",\"Ignore\"]\n",
        "\n",
        "for k in p:\n",
        "  for c in e:\n",
        "    print (k.c)"
      ],
      "metadata": {
        "colab": {
          "base_uri": "https://localhost:8080/"
        },
        "id": "n_1pwfktj5Rd",
        "outputId": "aa013c9b-cd5f-43c3-a0db-7383e8358043"
      },
      "execution_count": 41,
      "outputs": [
        {
          "output_type": "stream",
          "name": "stdout",
          "text": [
            "Love\n",
            "Me\n",
            "Love\n",
            "Myself\n",
            "Love\n",
            "Ignore\n",
            "Kill\n",
            "Me\n",
            "Kill\n",
            "Myself\n",
            "Kill\n",
            "Ignore\n",
            "I\n",
            "Me\n",
            "I\n",
            "Myself\n",
            "I\n",
            "Ignore\n"
          ]
        }
      ]
    },
    {
      "cell_type": "code",
      "source": [
        "#Print only Thursday\n",
        "\n",
        "week = [\"Sunday\", \"Monday\", \"Tuesday\", \"Wednesday\", \"Thursday\", \"Friday\", \"Saturday\"]\n",
        "\n",
        "for linggo in week:\n",
        "  if linggo == \"Thursday\": \n",
        "    print (linggo) \n",
        "    break\n"
      ],
      "metadata": {
        "colab": {
          "base_uri": "https://localhost:8080/"
        },
        "id": "-7XYHrQVlTj7",
        "outputId": "d590a585-bf02-4253-a65a-7ff4932644a5"
      },
      "execution_count": 44,
      "outputs": [
        {
          "output_type": "stream",
          "name": "stdout",
          "text": [
            "Thursday\n"
          ]
        }
      ]
    },
    {
      "cell_type": "code",
      "source": [
        "#Using Looping with Else functio\n",
        "\n",
        "\n",
        "week = [\"Sunday\", \"Monday\", \"Tuesday\", \"Wednesday\", \"Thursday\", \"Friday\", \"Saturday\"]\n",
        "\n",
        "for linggo in week:\n",
        "  if linggo == \"Wednesday\": continue\n",
        "  print (linggo)"
      ],
      "metadata": {
        "id": "FYn61TO-mpDQ"
      },
      "execution_count": null,
      "outputs": []
    },
    {
      "cell_type": "code",
      "source": [
        "#While Looping (Test the condition while the condition is true)\n",
        "\n",
        "n = 1\n",
        "while n < 5:\n",
        "  print (n)\n",
        "  n+=1"
      ],
      "metadata": {
        "colab": {
          "base_uri": "https://localhost:8080/"
        },
        "id": "rxHti0YonbpD",
        "outputId": "4b7ae614-c18b-46d6-b648-eb318f6d6e2c"
      },
      "execution_count": 50,
      "outputs": [
        {
          "output_type": "stream",
          "name": "stdout",
          "text": [
            "1\n",
            "2\n",
            "3\n",
            "4\n"
          ]
        }
      ]
    },
    {
      "cell_type": "code",
      "source": [
        "#While Loop using break statements (print only 4)\n",
        "\n",
        "no = 1\n",
        "while no < 20:\n",
        "  if no == 4:\n",
        "    n+=1\n",
        "    print (no)\n",
        "    break"
      ],
      "metadata": {
        "colab": {
          "base_uri": "https://localhost:8080/",
          "height": 235
        },
        "id": "wRX8Z64apHVK",
        "outputId": "e8e9c74d-0fb4-44b7-f75f-2fb877af29d6"
      },
      "execution_count": 56,
      "outputs": [
        {
          "output_type": "error",
          "ename": "KeyboardInterrupt",
          "evalue": "ignored",
          "traceback": [
            "\u001b[0;31m---------------------------------------------------------------------------\u001b[0m",
            "\u001b[0;31mKeyboardInterrupt\u001b[0m                         Traceback (most recent call last)",
            "\u001b[0;32m<ipython-input-56-d1ebc6ab695c>\u001b[0m in \u001b[0;36m<module>\u001b[0;34m\u001b[0m\n\u001b[1;32m      2\u001b[0m \u001b[0;34m\u001b[0m\u001b[0m\n\u001b[1;32m      3\u001b[0m \u001b[0mno\u001b[0m \u001b[0;34m=\u001b[0m \u001b[0;36m1\u001b[0m\u001b[0;34m\u001b[0m\u001b[0;34m\u001b[0m\u001b[0m\n\u001b[0;32m----> 4\u001b[0;31m \u001b[0;32mwhile\u001b[0m \u001b[0mno\u001b[0m \u001b[0;34m<\u001b[0m \u001b[0;36m20\u001b[0m\u001b[0;34m:\u001b[0m\u001b[0;34m\u001b[0m\u001b[0;34m\u001b[0m\u001b[0m\n\u001b[0m\u001b[1;32m      5\u001b[0m   \u001b[0;32mif\u001b[0m \u001b[0mno\u001b[0m \u001b[0;34m==\u001b[0m \u001b[0;36m4\u001b[0m\u001b[0;34m:\u001b[0m\u001b[0;34m\u001b[0m\u001b[0;34m\u001b[0m\u001b[0m\n\u001b[1;32m      6\u001b[0m     \u001b[0mn\u001b[0m\u001b[0;34m+=\u001b[0m\u001b[0;36m1\u001b[0m\u001b[0;34m\u001b[0m\u001b[0;34m\u001b[0m\u001b[0m\n",
            "\u001b[0;31mKeyboardInterrupt\u001b[0m: "
          ]
        }
      ]
    },
    {
      "cell_type": "code",
      "source": [
        "#Print Hello + number (Application 1 \"While Loop\")\n",
        "\n",
        "t=0\n",
        "\n",
        "while t < 11:\n",
        "  if t < 11:\n",
        "    print (\"Hello\",t)\n",
        "    t+=1\n"
      ],
      "metadata": {
        "colab": {
          "base_uri": "https://localhost:8080/"
        },
        "id": "BY5WAXoKqyE7",
        "outputId": "ad899a4c-91f8-4a06-ff22-a7d1d2b0686f"
      },
      "execution_count": 76,
      "outputs": [
        {
          "output_type": "stream",
          "name": "stdout",
          "text": [
            "Hello 0\n",
            "Hello 1\n",
            "Hello 2\n",
            "Hello 3\n",
            "Hello 4\n",
            "Hello 5\n",
            "Hello 6\n",
            "Hello 7\n",
            "Hello 8\n",
            "Hello 9\n",
            "Hello 10\n"
          ]
        }
      ]
    },
    {
      "cell_type": "code",
      "source": [
        "#Application 1 (For Loop)\n",
        "\n",
        "mk = [0,1,2,3,4,5,6,7,8,9,10]\n",
        "\n",
        "for km in mk:\n",
        "    print (\"Hello\", mk)"
      ],
      "metadata": {
        "colab": {
          "base_uri": "https://localhost:8080/"
        },
        "id": "AdRM-Nf0sPDa",
        "outputId": "618dce4c-cf13-4941-c157-e722b9d2d1f4"
      },
      "execution_count": 82,
      "outputs": [
        {
          "output_type": "stream",
          "name": "stdout",
          "text": [
            "Hello [0, 1, 2, 3, 4, 5, 6, 7, 8, 9, 10]\n",
            "Hello [0, 1, 2, 3, 4, 5, 6, 7, 8, 9, 10]\n",
            "Hello [0, 1, 2, 3, 4, 5, 6, 7, 8, 9, 10]\n",
            "Hello [0, 1, 2, 3, 4, 5, 6, 7, 8, 9, 10]\n",
            "Hello [0, 1, 2, 3, 4, 5, 6, 7, 8, 9, 10]\n",
            "Hello [0, 1, 2, 3, 4, 5, 6, 7, 8, 9, 10]\n",
            "Hello [0, 1, 2, 3, 4, 5, 6, 7, 8, 9, 10]\n",
            "Hello [0, 1, 2, 3, 4, 5, 6, 7, 8, 9, 10]\n",
            "Hello [0, 1, 2, 3, 4, 5, 6, 7, 8, 9, 10]\n",
            "Hello [0, 1, 2, 3, 4, 5, 6, 7, 8, 9, 10]\n",
            "Hello [0, 1, 2, 3, 4, 5, 6, 7, 8, 9, 10]\n"
          ]
        }
      ]
    },
    {
      "cell_type": "code",
      "source": [
        "#Application 2 (While Loop)\n",
        "\n",
        "gt = 3\n",
        "\n",
        "while 3<=gt<10:\n",
        "  print (gt)\n",
        "  gt+=1"
      ],
      "metadata": {
        "colab": {
          "base_uri": "https://localhost:8080/"
        },
        "id": "gxynV2y4s3ke",
        "outputId": "a02e2494-e88e-40af-8ad3-7a88e814e305"
      },
      "execution_count": 81,
      "outputs": [
        {
          "output_type": "stream",
          "name": "stdout",
          "text": [
            "3\n",
            "4\n",
            "5\n",
            "6\n",
            "7\n",
            "8\n",
            "9\n"
          ]
        }
      ]
    }
  ]
}