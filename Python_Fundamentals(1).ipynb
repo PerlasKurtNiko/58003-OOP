{
  "nbformat": 4,
  "nbformat_minor": 0,
  "metadata": {
    "colab": {
      "provenance": [],
      "authorship_tag": "ABX9TyNjhlItAMujGmDzZJidMnPK",
      "include_colab_link": true
    },
    "kernelspec": {
      "name": "python3",
      "display_name": "Python 3"
    },
    "language_info": {
      "name": "python"
    }
  },
  "cells": [
    {
      "cell_type": "markdown",
      "metadata": {
        "id": "view-in-github",
        "colab_type": "text"
      },
      "source": [
        "<a href=\"https://colab.research.google.com/github/PerlasKurtNiko/58003-OOP/blob/main/Python_Fundamentals(1).ipynb\" target=\"_parent\"><img src=\"https://colab.research.google.com/assets/colab-badge.svg\" alt=\"Open In Colab\"/></a>"
      ]
    },
    {
      "cell_type": "code",
      "execution_count": null,
      "metadata": {
        "colab": {
          "base_uri": "https://localhost:8080/"
        },
        "id": "bWi_7ebKUyfn",
        "outputId": "5d3b65de-476e-42a7-ac67-bd64cbd4045d"
      },
      "outputs": [
        {
          "output_type": "stream",
          "name": "stdout",
          "text": [
            "5 is greater than 2\n"
          ]
        }
      ],
      "source": [
        "#Python Indentation\n",
        "\n",
        "if 5>2:\n",
        "  print (\"5 is greater than 2\")"
      ]
    },
    {
      "cell_type": "code",
      "source": [
        "#Declaration of variable\n",
        "\n",
        "x,y = 5, 2\n",
        "\n",
        "if x>y:\n",
        "  print (\"5 is greater than 2\")\n",
        "elif x<y:\n",
        "  print(\"2 is greater than 5\")\n",
        "else:\n",
        "  print (\"5 and 2 are equal\")"
      ],
      "metadata": {
        "colab": {
          "base_uri": "https://localhost:8080/"
        },
        "id": "zyoMHMCgVC8h",
        "outputId": "4438ea87-f4e7-4b80-87a2-df8caeb076d3"
      },
      "execution_count": null,
      "outputs": [
        {
          "output_type": "stream",
          "name": "stdout",
          "text": [
            "5 is greater than 2\n"
          ]
        }
      ]
    },
    {
      "cell_type": "code",
      "source": [
        "#Python Variable\n"
      ],
      "metadata": {
        "id": "kKhOX7tJVhg_"
      },
      "execution_count": null,
      "outputs": []
    },
    {
      "cell_type": "code",
      "source": [
        "#Casting\n",
        "\n",
        "b = int (4)\n",
        "print (b)\n",
        "b = float (4)\n",
        "print (b)"
      ],
      "metadata": {
        "colab": {
          "base_uri": "https://localhost:8080/"
        },
        "id": "AlKrUjCscdRR",
        "outputId": "57b535b0-997f-4471-8d1d-a2f47532f2ba"
      },
      "execution_count": 2,
      "outputs": [
        {
          "output_type": "stream",
          "name": "stdout",
          "text": [
            "4\n",
            "4.0\n"
          ]
        }
      ]
    },
    {
      "cell_type": "code",
      "source": [
        "#Type function\n",
        "\n",
        "a = \"Sally\"\n",
        "print (type(a))\n",
        "\n"
      ],
      "metadata": {
        "colab": {
          "base_uri": "https://localhost:8080/"
        },
        "id": "whVrs_e0dD_3",
        "outputId": "134b8d20-e5ff-4bdb-83ab-996e4e956a7d"
      },
      "execution_count": 3,
      "outputs": [
        {
          "output_type": "stream",
          "name": "stdout",
          "text": [
            "<class 'str'>\n"
          ]
        }
      ]
    },
    {
      "cell_type": "code",
      "source": [
        "#Double or single quotes\n",
        "\n",
        "y = \"Kohn\"\n",
        "y = 'John'\n",
        "\n",
        "print (y)"
      ],
      "metadata": {
        "colab": {
          "base_uri": "https://localhost:8080/"
        },
        "id": "y0F8ribod5Gw",
        "outputId": "cd71af89-e6f0-47ea-8fd1-aed5e32874da"
      },
      "execution_count": 4,
      "outputs": [
        {
          "output_type": "stream",
          "name": "stdout",
          "text": [
            "John\n"
          ]
        }
      ]
    },
    {
      "cell_type": "code",
      "source": [
        "a = \"John\"\n",
        "print (a)"
      ],
      "metadata": {
        "colab": {
          "base_uri": "https://localhost:8080/"
        },
        "id": "jNJcmauQeeVz",
        "outputId": "4a0f044b-c161-4f11-e5b3-a13e67bb82c2"
      },
      "execution_count": 7,
      "outputs": [
        {
          "output_type": "stream",
          "name": "stdout",
          "text": [
            "John\n"
          ]
        }
      ]
    },
    {
      "cell_type": "code",
      "source": [
        "print (a)"
      ],
      "metadata": {
        "colab": {
          "base_uri": "https://localhost:8080/"
        },
        "id": "AFUr2UBser7i",
        "outputId": "48283b4f-62f7-461e-98ec-f8a391af7b39"
      },
      "execution_count": 8,
      "outputs": [
        {
          "output_type": "stream",
          "name": "stdout",
          "text": [
            "John\n"
          ]
        }
      ]
    },
    {
      "cell_type": "code",
      "source": [
        "#Concatenation\n",
        "\n",
        "k = \"Python is \"\n",
        "l = \"enjoying\"\n",
        "\n",
        "print (k+l)"
      ],
      "metadata": {
        "colab": {
          "base_uri": "https://localhost:8080/"
        },
        "id": "9n8HQaQPfBei",
        "outputId": "24ffd752-9b07-4464-eed9-c5f591776235"
      },
      "execution_count": 10,
      "outputs": [
        {
          "output_type": "stream",
          "name": "stdout",
          "text": [
            "Python is enjoying\n"
          ]
        }
      ]
    },
    {
      "cell_type": "code",
      "source": [
        "#Concatenation\n",
        "\n",
        "k = \"Python is \"\n",
        "l = \"enjoying\"\n",
        "\n",
        "print (\"Python is \"+l)"
      ],
      "metadata": {
        "colab": {
          "base_uri": "https://localhost:8080/"
        },
        "id": "SRmrQtVmfijr",
        "outputId": "a605a3ad-03d8-456d-a83a-29e3d9f97a3e"
      },
      "execution_count": 11,
      "outputs": [
        {
          "output_type": "stream",
          "name": "stdout",
          "text": [
            "Python is enjoying\n"
          ]
        }
      ]
    }
  ]
}