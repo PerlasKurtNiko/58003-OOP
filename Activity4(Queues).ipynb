{
  "nbformat": 4,
  "nbformat_minor": 0,
  "metadata": {
    "colab": {
      "provenance": [],
      "authorship_tag": "ABX9TyOJU2lPRyx8socCuFNZ+JI3",
      "include_colab_link": true
    },
    "kernelspec": {
      "name": "python3",
      "display_name": "Python 3"
    },
    "language_info": {
      "name": "python"
    }
  },
  "cells": [
    {
      "cell_type": "markdown",
      "metadata": {
        "id": "view-in-github",
        "colab_type": "text"
      },
      "source": [
        "<a href=\"https://colab.research.google.com/github/PerlasKurtNiko/58003-OOP/blob/main/Activity4(Queues).ipynb\" target=\"_parent\"><img src=\"https://colab.research.google.com/assets/colab-badge.svg\" alt=\"Open In Colab\"/></a>"
      ]
    },
    {
      "cell_type": "code",
      "execution_count": 10,
      "metadata": {
        "colab": {
          "base_uri": "https://localhost:8080/",
          "height": 297
        },
        "id": "mUKRl-PwKziR",
        "outputId": "4688c551-2624-4668-9700-9ee11200ed59"
      },
      "outputs": [
        {
          "output_type": "stream",
          "name": "stdout",
          "text": [
            "['a', 'b', 'c']\n",
            "['a', 'c']\n",
            "['a']\n",
            "[]\n"
          ]
        },
        {
          "output_type": "error",
          "ename": "NameError",
          "evalue": "ignored",
          "traceback": [
            "\u001b[0;31m---------------------------------------------------------------------------\u001b[0m",
            "\u001b[0;31mNameError\u001b[0m                                 Traceback (most recent call last)",
            "\u001b[0;32m<ipython-input-10-4c4ad02dfea6>\u001b[0m in \u001b[0;36m<cell line: 24>\u001b[0;34m()\u001b[0m\n\u001b[1;32m     22\u001b[0m \u001b[0;31m#Note that list could be empty\u001b[0m\u001b[0;34m\u001b[0m\u001b[0;34m\u001b[0m\u001b[0m\n\u001b[1;32m     23\u001b[0m \u001b[0;34m\u001b[0m\u001b[0m\n\u001b[0;32m---> 24\u001b[0;31m \u001b[0;32mif\u001b[0m \u001b[0mqueue\u001b[0m \u001b[0;34m==\u001b[0m \u001b[0mempty\u001b[0m\u001b[0;34m:\u001b[0m\u001b[0;34m\u001b[0m\u001b[0;34m\u001b[0m\u001b[0m\n\u001b[0m\u001b[1;32m     25\u001b[0m   \u001b[0mprint\u001b[0m\u001b[0;34m(\u001b[0m\u001b[0;34m'list is empty'\u001b[0m\u001b[0;34m)\u001b[0m\u001b[0;34m\u001b[0m\u001b[0;34m\u001b[0m\u001b[0m\n",
            "\u001b[0;31mNameError\u001b[0m: name 'empty' is not defined"
          ]
        }
      ],
      "source": [
        "queue = []\n",
        "queue.append('a')\n",
        "queue.append('b')\n",
        "queue.append('c')\n",
        "print(queue)\n",
        "\n",
        "#Removing Element in queue list using .pop function\n",
        "queue.pop(1)\n",
        "print (queue)\n",
        "\n",
        "#Removing Element in a queue\n",
        "queue.remove('c')\n",
        "print (queue)\n",
        "\n",
        "#Removing Element in queue list using .pop function\n",
        "queue.pop()\n",
        "print (queue)\n",
        "\n",
        "#Stop overgflow error?\n",
        "#queue.pop()\n",
        "#print (queue)\n",
        "#Note that list could be empty\n",
        "\n",
        "if queue == empty:\n",
        "  print('list is empty')"
      ]
    },
    {
      "cell_type": "code",
      "source": [
        "queues = []\n",
        "integers =  range (51)\n",
        "for x in integers:\n",
        "  if x % 2 == 0:\n",
        "    queues.append(x)\n",
        "\n",
        "print (queues)\n",
        "\n",
        "while queues:\n",
        "  queues.pop(0)\n",
        "  print (queues)\n",
        "#for queues in x:\n",
        " # if x >= 50:\n",
        "  #  x+=2\n",
        "#print (queues)\n",
        "\n",
        "#while queues:\n",
        " # if queues >=50:\n",
        "  #  queues+=2\n",
        "#print (queues)"
      ],
      "metadata": {
        "colab": {
          "base_uri": "https://localhost:8080/"
        },
        "id": "ezBhFVDlOKBp",
        "outputId": "846fc751-fab6-4753-ee4d-747ffa8b7e16"
      },
      "execution_count": 26,
      "outputs": [
        {
          "output_type": "stream",
          "name": "stdout",
          "text": [
            "[0, 2, 4, 6, 8, 10, 12, 14, 16, 18, 20, 22, 24, 26, 28, 30, 32, 34, 36, 38, 40, 42, 44, 46, 48, 50]\n",
            "[2, 4, 6, 8, 10, 12, 14, 16, 18, 20, 22, 24, 26, 28, 30, 32, 34, 36, 38, 40, 42, 44, 46, 48, 50]\n",
            "[4, 6, 8, 10, 12, 14, 16, 18, 20, 22, 24, 26, 28, 30, 32, 34, 36, 38, 40, 42, 44, 46, 48, 50]\n",
            "[6, 8, 10, 12, 14, 16, 18, 20, 22, 24, 26, 28, 30, 32, 34, 36, 38, 40, 42, 44, 46, 48, 50]\n",
            "[8, 10, 12, 14, 16, 18, 20, 22, 24, 26, 28, 30, 32, 34, 36, 38, 40, 42, 44, 46, 48, 50]\n",
            "[10, 12, 14, 16, 18, 20, 22, 24, 26, 28, 30, 32, 34, 36, 38, 40, 42, 44, 46, 48, 50]\n",
            "[12, 14, 16, 18, 20, 22, 24, 26, 28, 30, 32, 34, 36, 38, 40, 42, 44, 46, 48, 50]\n",
            "[14, 16, 18, 20, 22, 24, 26, 28, 30, 32, 34, 36, 38, 40, 42, 44, 46, 48, 50]\n",
            "[16, 18, 20, 22, 24, 26, 28, 30, 32, 34, 36, 38, 40, 42, 44, 46, 48, 50]\n",
            "[18, 20, 22, 24, 26, 28, 30, 32, 34, 36, 38, 40, 42, 44, 46, 48, 50]\n",
            "[20, 22, 24, 26, 28, 30, 32, 34, 36, 38, 40, 42, 44, 46, 48, 50]\n",
            "[22, 24, 26, 28, 30, 32, 34, 36, 38, 40, 42, 44, 46, 48, 50]\n",
            "[24, 26, 28, 30, 32, 34, 36, 38, 40, 42, 44, 46, 48, 50]\n",
            "[26, 28, 30, 32, 34, 36, 38, 40, 42, 44, 46, 48, 50]\n",
            "[28, 30, 32, 34, 36, 38, 40, 42, 44, 46, 48, 50]\n",
            "[30, 32, 34, 36, 38, 40, 42, 44, 46, 48, 50]\n",
            "[32, 34, 36, 38, 40, 42, 44, 46, 48, 50]\n",
            "[34, 36, 38, 40, 42, 44, 46, 48, 50]\n",
            "[36, 38, 40, 42, 44, 46, 48, 50]\n",
            "[38, 40, 42, 44, 46, 48, 50]\n",
            "[40, 42, 44, 46, 48, 50]\n",
            "[42, 44, 46, 48, 50]\n",
            "[44, 46, 48, 50]\n",
            "[46, 48, 50]\n",
            "[48, 50]\n",
            "[50]\n",
            "[]\n"
          ]
        }
      ]
    },
    {
      "cell_type": "code",
      "source": [
        "Q =[]\n",
        "q = range(51)\n",
        "\n",
        "for x in q:\n",
        "  if x & 1 == 0:\n",
        "    Q.append(x)\n",
        "    print(Q)\n",
        "\n",
        "for x in q:\n",
        "  if x % 2 == 0:\n",
        "    if x != 0:\n",
        "      Q.pop()\n",
        "      print(Q)"
      ],
      "metadata": {
        "id": "l1OivPLJUIzZ"
      },
      "execution_count": null,
      "outputs": []
    }
  ]
}