{
  "nbformat": 4,
  "nbformat_minor": 0,
  "metadata": {
    "colab": {
      "provenance": [],
      "authorship_tag": "ABX9TyNMz9a6ZV19lqrwMT4YbgM5",
      "include_colab_link": true
    },
    "kernelspec": {
      "name": "python3",
      "display_name": "Python 3"
    },
    "language_info": {
      "name": "python"
    }
  },
  "cells": [
    {
      "cell_type": "markdown",
      "metadata": {
        "id": "view-in-github",
        "colab_type": "text"
      },
      "source": [
        "<a href=\"https://colab.research.google.com/github/PerlasKurtNiko/58003-OOP/blob/main/Lab_Activity_2.ipynb\" target=\"_parent\"><img src=\"https://colab.research.google.com/assets/colab-badge.svg\" alt=\"Open In Colab\"/></a>"
      ]
    },
    {
      "cell_type": "code",
      "execution_count": 12,
      "metadata": {
        "id": "_DmnhWn6ciFI",
        "colab": {
          "base_uri": "https://localhost:8080/"
        },
        "outputId": "8b910963-f005-4c76-cb44-88b091cfb7f1"
      },
      "outputs": [
        {
          "output_type": "stream",
          "name": "stdout",
          "text": [
            "The Circumference of the circle is 433.5397926\n",
            "The Area of the circle is 14957.1228447\n"
          ]
        }
      ],
      "source": [
        "class Circle:\n",
        "  def __init__(self,radiusy,pie):\n",
        "    self.radiusy = radiusy\n",
        "    self.pie = pie\n",
        "  \n",
        "  def Circumference(self):\n",
        "    return 2*self.pie*self.radiusy\n",
        "  \n",
        "  def Area(self):\n",
        "    return self.pie*(self.radiusy**2)\n",
        "  \n",
        "  def display(self):\n",
        "    print (\"The Circumference of the circle is\", self.Circumference())\n",
        "    print (\"The Area of the circle is\", self.Area())\n",
        "\n",
        "circle = Circle (69, 3.1415927)\n",
        "circle.display()\n",
        "#circle.Circle()\n",
        "\n"
      ]
    }
  ]
}